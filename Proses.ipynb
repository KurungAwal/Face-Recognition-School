{
 "cells": [
  {
   "cell_type": "markdown",
   "metadata": {},
   "source": [
    "# Dokumentasi Proses "
   ]
  },
  {
   "cell_type": "markdown",
   "metadata": {},
   "source": [
    "# 1. Inisialisasi dan Setup Awal\n",
    "1. Instal library seperti OpenCV, face_recognition, numpy, pyttsx3.\n",
    "2. Buat folder dan file untuk menyimpan: Encoding wajah, Metadata pengguna, Riwayat kehadiran"
   ]
  },
  {
   "cell_type": "markdown",
   "metadata": {},
   "source": [
    "# 2. Membuka Kamera dan Menangkap Frame\n",
    "1. Akses webcam menggunakan cv2.VideoCapture().\n",
    "2. Tangkap frame secara real-time untuk diproses."
   ]
  },
  {
   "cell_type": "markdown",
   "metadata": {},
   "source": [
    "# 3. Deteksi dan Pengenalan Wajah\n",
    "1. Deteksi wajah dalam frame\n",
    "2. Encode wajah yang terdeteksi\n",
    "3. Bandingkan encoding wajah dengan database wajah yang sudah tersimpan."
   ]
  },
  {
   "cell_type": "markdown",
   "metadata": {},
   "source": [
    "# 4. Pencatatan Kehadiran Otomatis\n",
    "1. Jika wajah dikenali: Catat waktu datang jika belum tercatat. Jika sudah pernah tercatat dan wajah tidak terdeteksi lagi → waktu pulang.\n",
    "2. Hitung durasi kehadiran dari waktu datang hingga pulang.\n",
    "3. Simpan data ke dalam file Excel dan database lokal."
   ]
  },
  {
   "cell_type": "markdown",
   "metadata": {},
   "source": [
    "# 5. Penyapa Otomatis (Text-to-Speech)\n",
    "1. Setelah wajah dikenali: Sistem menyapa pengguna saat datang: “Selamat pagi, [nama]”\n",
    "2. Sistem mengucapkan selamat jalan saat pulang: “Selamat jalan, [nama]”\n",
    "3. Menggunakan library pyttsx3."
   ]
  },
  {
   "cell_type": "markdown",
   "metadata": {},
   "source": [
    "# 6. Registrasi Wajah Baru\n",
    "1. Jika wajah tidak dikenali: Sistem menampilkan perintah: tekan s untuk mendaftar. Setelah ditekan, muncul form (CLI atau GUI) untuk input: Nama, Kelas, Peran.\n",
    "2. Wajah diambil dan encoding disimpan ke faces.npy, metadata ke faces.json."
   ]
  },
  {
   "cell_type": "markdown",
   "metadata": {},
   "source": [
    "# 7. Penyimpanan Screenshot Kehadiran\n",
    "1. Saat pengguna hadir dan dikenali, sistem otomatis mengambil screenshot.\n",
    "2. Gambar disimpan ke folder lokal"
   ]
  },
  {
   "cell_type": "markdown",
   "metadata": {},
   "source": [
    "# 8. Keluar dari Program\n",
    "1. Tekan tombol Q di keyboard.\n",
    "2. Kamera mati.\n",
    "3. Jendela video ditutup"
   ]
  },
  {
   "cell_type": "markdown",
   "metadata": {},
   "source": [
    "# Dokumentasi Cara Penggunaan untuk User"
   ]
  },
  {
   "cell_type": "markdown",
   "metadata": {},
   "source": [
    "1. Pastikan wajah kamu terlihat jelas di depan kamera\n",
    "2. Jika wajahmu sudah terdaftar: kamera akan otomatis mengenali wajahmu dan akan mendengar suara \"Selamat datang, [Nama]\" maka kamu sudah terabsen hadir.\n",
    "3. Jika wajahmu belum terdaftar: Layar akan menunjukkan press S to register. Kamu akan diminta untuk menuliskan nama lengkap dan peran. Setelah terdaftar maka wajahmu dapat dikenali secara otomatis saat absensi berikutnya.\n",
    "4. Setelah jam 15.00, ulangi menghadap kamera, setelah kamera mengenali dan menyapa \"Selamat Jalan [Nama]\" maka kamu sudah terabsen pulang."
   ]
  }
 ],
 "metadata": {
  "language_info": {
   "name": "python"
  }
 },
 "nbformat": 4,
 "nbformat_minor": 2
}
