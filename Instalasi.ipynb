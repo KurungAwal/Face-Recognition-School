{
 "cells": [
  {
   "cell_type": "markdown",
   "metadata": {},
   "source": [
    "# Dokumentasi Instalasi Project School Attendance"
   ]
  },
  {
   "cell_type": "markdown",
   "metadata": {},
   "source": [
    "# Apa Saja yang Perlu di Install?\n",
    "1. cv2\n",
    "2. face_recognition\n",
    "3. os\n",
    "4. numpy\n",
    "5. json\n",
    "6. tkinter\n",
    "7. pyttsx3"
   ]
  },
  {
   "cell_type": "markdown",
   "metadata": {},
   "source": [
    "# 1. Cara Menginstall CV2\n",
    "OpenCV atau cv2 adalah library wajib untuk capture kamera dan proses gambar.\n",
    "\n",
    "1. Buka terminal\n",
    "2. Install dengan: pip install opencv-python\n",
    "3. atau pip3 install opencv-python untuk Mac\n",
    "4. Verifikasi instalasi dengan menjalankan script python berikut:"
   ]
  },
  {
   "cell_type": "code",
   "execution_count": 5,
   "metadata": {},
   "outputs": [
    {
     "name": "stdout",
     "output_type": "stream",
     "text": [
      "4.9.0\n"
     ]
    }
   ],
   "source": [
    "import cv2\n",
    "print(cv2.__version__)  # Cetak versi OpenCV"
   ]
  },
  {
   "cell_type": "markdown",
   "metadata": {},
   "source": [
    "# 2. Cara Menginstall Face Recognition\n",
    "face_recognition adalah library Python berbasis dlib untuk deteksi dan pengenalan wajah.\n",
    "\n",
    "1. Buka CMD dan jalankan: "
   ]
  },
  {
   "cell_type": "code",
   "execution_count": null,
   "metadata": {},
   "outputs": [],
   "source": [
    "pip install cmake  # Wajib untuk kompilasi dlib\n",
    "pip install dlib   # Library machine learning untuk face_recognition\n",
    "pip install face_recognition "
   ]
  },
  {
   "cell_type": "markdown",
   "metadata": {},
   "source": [
    "2. Verifikasi instalasi"
   ]
  },
  {
   "cell_type": "code",
   "execution_count": 7,
   "metadata": {},
   "outputs": [
    {
     "name": "stdout",
     "output_type": "stream",
     "text": [
      "1.2.3\n"
     ]
    }
   ],
   "source": [
    "import face_recognition\n",
    "print(face_recognition.__version__)  # Harusnya mencetak versi"
   ]
  },
  {
   "cell_type": "markdown",
   "metadata": {},
   "source": [
    "# 3. Cara Menginstall OS \n",
    "Sistem Operasi adalah perangkat lunak inti yang mengelola seluruh operasi komputer. \n",
    "Fungsi utamanya adalah:\n",
    "\n",
    "1. Manajemen Hardware: Mengontrol CPU, RAM, storage, dan perangkat input/output\n",
    "2. Antarmuka Pengguna: Menyediakan GUI (Graphical User Interface) seperti Windows/macOS atau CLI (Command Line Interface) seperti Terminal Linux\n",
    "3. Manajemen File: Mengatur penyimpanan data (create, read, update, delete file).\n",
    "4. Manajemen Aplikasi: Menjalankan dan menghentikan program\n",
    "\n",
    "Cara install:\n",
    "1. Modul os sudah termasuk dalam instalasi standar Python\n",
    "2. Gunakan, import os\n",
    "\n",
    "Cara penggunaan modul os:\n",
    "1. Mengecek Direktori Saat Ini"
   ]
  },
  {
   "cell_type": "code",
   "execution_count": null,
   "metadata": {},
   "outputs": [],
   "source": [
    "import os\n",
    "print(os.getcwd())  # Output: /path/ke/direktori/anda"
   ]
  },
  {
   "cell_type": "markdown",
   "metadata": {},
   "source": [
    "2. List File dalam Direktori"
   ]
  },
  {
   "cell_type": "code",
   "execution_count": null,
   "metadata": {},
   "outputs": [],
   "source": [
    "files = os.listdir()  # List semua file di direktori saat ini\n",
    "print(files)"
   ]
  },
  {
   "cell_type": "markdown",
   "metadata": {},
   "source": [
    "3. Membuat/Menghapus Direktori"
   ]
  },
  {
   "cell_type": "code",
   "execution_count": null,
   "metadata": {},
   "outputs": [],
   "source": [
    "os.mkdir(\"folder_baru\")  # Membuat folder baru\n",
    "os.rmdir(\"folder_baru\")  # Menghapus folder (jika kosong)"
   ]
  },
  {
   "cell_type": "markdown",
   "metadata": {},
   "source": [
    "4. Menjalankan Perintah Sistem"
   ]
  },
  {
   "cell_type": "code",
   "execution_count": null,
   "metadata": {},
   "outputs": [],
   "source": [
    "# Windows:\n",
    "os.system(\"dir\")  # List file (seperti di CMD)\n",
    "\n",
    "# macOS/Linux:\n",
    "os.system(\"ls\")   # List file (seperti di Terminal)"
   ]
  },
  {
   "cell_type": "markdown",
   "metadata": {},
   "source": [
    "5. Mengganti Nama File"
   ]
  },
  {
   "cell_type": "code",
   "execution_count": null,
   "metadata": {},
   "outputs": [],
   "source": [
    "os.rename(\"file_lama.txt\", \"file_baru.txt\")"
   ]
  },
  {
   "cell_type": "markdown",
   "metadata": {},
   "source": [
    "# 4. Cara Menginstal NumPy\n",
    "NumPy (Numerical Python) adalah library Python untuk komputasi saintifik dan analisis data. \n",
    "\n",
    "1. Buka command prompt (windows) atau terminal (macOS/linux)\n",
    "2. Menjalankan perintah: pip install numpy \n",
    "3. atau pip3 install numpy untuk Mac\n"
   ]
  },
  {
   "cell_type": "markdown",
   "metadata": {},
   "source": [
    "# 5. Cara Menginstal JSON\n",
    "JSON (JavaScript Object Notation) adalah format pertukaran data yang ringan dan mudah dibaca oleh manusia maupun mesin.\n",
    "\n",
    "Fungsi utamanya adalah: \n",
    "1. Penyimpanan Data\n",
    "2. Komunikasi API: Mengirim/menerima data dari server\n",
    "3. Pertukaran Data Antar Bahasa\n",
    "Kompatibel dengan Python, JavaScript, Java, dll.\n",
    "\n",
    "Cara install:\n",
    "1. Untuk Python: Modul json sudah termasuk bawaan Python\n",
    "2. import json  # Langsung bisa digunakan!"
   ]
  },
  {
   "cell_type": "markdown",
   "metadata": {},
   "source": [
    "# 6. Cara Menginstall Tkinter\n",
    "Tkinter adalah library standar Python untuk membuat GUI (Graphical User Interface) berbasis desktop. Ini adalah toolkit bawaan Python yang memungkinkan pembuatan aplikasi dengan jendela, tombol, input teks, dan komponen visual lainnya.\n",
    "\n",
    "1. Tkinter biasanya sudah terpasang bersama Python\n",
    "2. Cek dengan perintah berikut di terminal: python -m tkinter\n",
    "3. Jika muncul jendela kecil bertuliskan \"This is Tkinter version...\", artinya Tkinter sudah terinstal"
   ]
  },
  {
   "cell_type": "markdown",
   "metadata": {},
   "source": [
    "# 7. Cara Menginstall Pyttsx3\n",
    "Library ini memungkinkan program Python berbicara (text-to-speech) dengan suara sintetis. \n",
    "\n",
    "Fungsi utamanya adalah:\n",
    "1. Konversi Teks ke Suara\n",
    "\n",
    "Cara install:\n",
    "1.  Instal via pip: Buka terminal/CMD dan jalankan: pip install pyttsx3\n",
    "2. Jika di windows error: Beberapa kasus membutuhkan pyaudio: pip install pyaudio\n",
    "3. MacOS: Pastikan sudah instal Homebrew: brew install espeak \n",
    "4. Verifikasi Instalasi:"
   ]
  },
  {
   "cell_type": "code",
   "execution_count": null,
   "metadata": {},
   "outputs": [],
   "source": [
    "import pyttsx3\n",
    "engine = pyttsx3.init()\n",
    "engine.say(\"Halo, pyttsx3 berhasil diinstal\")\n",
    "engine.runAndWait()"
   ]
  },
  {
   "cell_type": "markdown",
   "metadata": {},
   "source": [
    "Trouble dan Solusinya\n",
    "1. No module named 'pyttsx3'"
   ]
  },
  {
   "cell_type": "markdown",
   "metadata": {},
   "source": [
    "Solusi: Pastikan pip/Python versi terbaru (python -m pip install --upgrade pip)"
   ]
  },
  {
   "cell_type": "markdown",
   "metadata": {},
   "source": [
    "2. Suara tidak keluar"
   ]
  },
  {
   "cell_type": "markdown",
   "metadata": {},
   "source": [
    "Solusi: Cek volume sistem atau Install driver TTS: Control Panel > Speech Recognition > Text to Speech"
   ]
  }
 ],
 "metadata": {
  "kernelspec": {
   "display_name": "Python 3",
   "language": "python",
   "name": "python3"
  },
  "language_info": {
   "codemirror_mode": {
    "name": "ipython",
    "version": 3
   },
   "file_extension": ".py",
   "mimetype": "text/x-python",
   "name": "python",
   "nbconvert_exporter": "python",
   "pygments_lexer": "ipython3",
   "version": "3.12.4"
  }
 },
 "nbformat": 4,
 "nbformat_minor": 2
}
